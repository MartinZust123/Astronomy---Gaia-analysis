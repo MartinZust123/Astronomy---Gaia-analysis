{
 "cells": [
  {
   "cell_type": "markdown",
   "metadata": {},
   "source": [
    "# Gaia DR2 variability catalogs\n",
    "### Part I: What's in them?"
   ]
  },
  {
   "cell_type": "markdown",
   "metadata": {},
   "source": [
    "gully  \n",
    "May 2, 2018"
   ]
  },
  {
   "cell_type": "code",
   "execution_count": 1,
   "metadata": {},
   "outputs": [],
   "source": [
    "# %load /Users/obsidian/Desktop/defaults.py\n",
    "import pandas as pd\n",
    "import numpy as np\n",
    "import matplotlib.pyplot as plt\n",
    "%matplotlib inline\n",
    "%config InlineBackend.figure_format = 'retina'"
   ]
  },
  {
   "cell_type": "code",
   "execution_count": 2,
   "metadata": {},
   "outputs": [
    {
     "name": "stdout",
     "output_type": "stream",
     "text": [
      "5.7M\t../data/dr2/Gaia/gdr2/vari_classifier_result/csv\r\n"
     ]
    }
   ],
   "source": [
    "! du -hs ../data/dr2/Gaia/gdr2/vari_classifier_result/csv"
   ]
  },
  {
   "cell_type": "code",
   "execution_count": 3,
   "metadata": {},
   "outputs": [],
   "source": [
    "df0 = pd.read_csv('../data/dr2/Gaia/gdr2/vari_classifier_result/csv/VariClassifierResult_0.csv.gz')"
   ]
  },
  {
   "cell_type": "code",
   "execution_count": 4,
   "metadata": {},
   "outputs": [
    {
     "data": {
      "text/plain": [
       "(7255, 5)"
      ]
     },
     "execution_count": 4,
     "metadata": {},
     "output_type": "execute_result"
    }
   ],
   "source": [
    "df0.shape"
   ]
  },
  {
   "cell_type": "code",
   "execution_count": 5,
   "metadata": {},
   "outputs": [
    {
     "data": {
      "text/html": [
       "<div>\n",
       "<style scoped>\n",
       "    .dataframe tbody tr th:only-of-type {\n",
       "        vertical-align: middle;\n",
       "    }\n",
       "\n",
       "    .dataframe tbody tr th {\n",
       "        vertical-align: top;\n",
       "    }\n",
       "\n",
       "    .dataframe thead th {\n",
       "        text-align: right;\n",
       "    }\n",
       "</style>\n",
       "<table border=\"1\" class=\"dataframe\">\n",
       "  <thead>\n",
       "    <tr style=\"text-align: right;\">\n",
       "      <th></th>\n",
       "      <th>solution_id</th>\n",
       "      <th>source_id</th>\n",
       "      <th>classifier_name</th>\n",
       "      <th>best_class_name</th>\n",
       "      <th>best_class_score</th>\n",
       "    </tr>\n",
       "  </thead>\n",
       "  <tbody>\n",
       "    <tr>\n",
       "      <th>0</th>\n",
       "      <td>369295546864633574</td>\n",
       "      <td>2915501251673548032</td>\n",
       "      <td>nTransits:2+</td>\n",
       "      <td>MIRA_SR</td>\n",
       "      <td>0.800170</td>\n",
       "    </tr>\n",
       "    <tr>\n",
       "      <th>1</th>\n",
       "      <td>369295546864633574</td>\n",
       "      <td>2915687000420285568</td>\n",
       "      <td>nTransits:2+</td>\n",
       "      <td>RRC</td>\n",
       "      <td>0.660132</td>\n",
       "    </tr>\n",
       "    <tr>\n",
       "      <th>2</th>\n",
       "      <td>369295546864633574</td>\n",
       "      <td>2915997715534807168</td>\n",
       "      <td>nTransits:2+</td>\n",
       "      <td>MIRA_SR</td>\n",
       "      <td>0.995748</td>\n",
       "    </tr>\n",
       "    <tr>\n",
       "      <th>3</th>\n",
       "      <td>369295546864633574</td>\n",
       "      <td>2916244830772710784</td>\n",
       "      <td>nTransits:2+</td>\n",
       "      <td>RRAB</td>\n",
       "      <td>0.955541</td>\n",
       "    </tr>\n",
       "    <tr>\n",
       "      <th>4</th>\n",
       "      <td>369295546864633574</td>\n",
       "      <td>2916286406055828480</td>\n",
       "      <td>nTransits:2+</td>\n",
       "      <td>RRAB</td>\n",
       "      <td>1.000000</td>\n",
       "    </tr>\n",
       "  </tbody>\n",
       "</table>\n",
       "</div>"
      ],
      "text/plain": [
       "          solution_id            source_id classifier_name best_class_name  \\\n",
       "0  369295546864633574  2915501251673548032    nTransits:2+         MIRA_SR   \n",
       "1  369295546864633574  2915687000420285568    nTransits:2+             RRC   \n",
       "2  369295546864633574  2915997715534807168    nTransits:2+         MIRA_SR   \n",
       "3  369295546864633574  2916244830772710784    nTransits:2+            RRAB   \n",
       "4  369295546864633574  2916286406055828480    nTransits:2+            RRAB   \n",
       "\n",
       "   best_class_score  \n",
       "0          0.800170  \n",
       "1          0.660132  \n",
       "2          0.995748  \n",
       "3          0.955541  \n",
       "4          1.000000  "
      ]
     },
     "execution_count": 5,
     "metadata": {},
     "output_type": "execute_result"
    }
   ],
   "source": [
    "df0.head()"
   ]
  },
  {
   "cell_type": "markdown",
   "metadata": {},
   "source": [
    "The catalog is not too long.  We can just read in all the files and concatenate them"
   ]
  },
  {
   "cell_type": "code",
   "execution_count": 6,
   "metadata": {},
   "outputs": [],
   "source": [
    "import glob"
   ]
  },
  {
   "cell_type": "code",
   "execution_count": 7,
   "metadata": {},
   "outputs": [],
   "source": [
    "fns = glob.glob('../data/dr2/Gaia/gdr2/vari_classifier_result/csv/VariClassifierResult_*.csv.gz')"
   ]
  },
  {
   "cell_type": "code",
   "execution_count": 8,
   "metadata": {},
   "outputs": [],
   "source": [
    "n_files = len(fns)"
   ]
  },
  {
   "cell_type": "code",
   "execution_count": 9,
   "metadata": {},
   "outputs": [],
   "source": [
    "df_classifier = pd.DataFrame()"
   ]
  },
  {
   "cell_type": "markdown",
   "metadata": {},
   "source": [
    "This step only takes 1 second:"
   ]
  },
  {
   "cell_type": "code",
   "execution_count": 10,
   "metadata": {},
   "outputs": [],
   "source": [
    "for i, fn in enumerate(fns):\n",
    "    df_i = pd.read_csv(fn)\n",
    "    df_classifier = df_classifier.append(df_i, ignore_index=True)"
   ]
  },
  {
   "cell_type": "code",
   "execution_count": 11,
   "metadata": {},
   "outputs": [
    {
     "data": {
      "text/plain": [
       "(363969, 5)"
      ]
     },
     "execution_count": 11,
     "metadata": {},
     "output_type": "execute_result"
    }
   ],
   "source": [
    "df_classifier.shape"
   ]
  },
  {
   "cell_type": "markdown",
   "metadata": {},
   "source": [
    "Ok, we have 363,969 classifications of variable stars, which matches exactly with the number presented in Table 1 of [Brown et al. 2018](https://www.aanda.org/component/article?access=doi&doi=10.1051/0004-6361/201833051).  What are the categories?"
   ]
  },
  {
   "cell_type": "code",
   "execution_count": 12,
   "metadata": {},
   "outputs": [
    {
     "data": {
      "text/plain": [
       "RRAB          162469\n",
       "MIRA_SR       150757\n",
       "RRC            32370\n",
       "DSCT_SXPHE      8882\n",
       "CEP             6493\n",
       "T2CEP           1743\n",
       "RRD              834\n",
       "ACEP             314\n",
       "ARRD             107\n",
       "Name: best_class_name, dtype: int64"
      ]
     },
     "execution_count": 12,
     "metadata": {},
     "output_type": "execute_result"
    }
   ],
   "source": [
    "df_classifier.best_class_name.value_counts()"
   ]
  },
  {
   "cell_type": "markdown",
   "metadata": {},
   "source": [
    "Section 7.3.3 of the [Gaia DR2 Documentation](http://gea.esac.esa.int/archive/documentation/GDR2/Data_analysis/chap_cu7var/ssec_cu7var_sos_allsky/ssec_cu7var_allsky_proc.html) lists the classification code definition.\n",
    "\n",
    "> The training set included objects of the classes targeted for publication in Gaia DR2 (listed in bold) as well as other types to reduce the contamination of the published classification results. The full list of object classes, with labels (used in the rest of this section) and corresponding descriptions, follows below.\n",
    "\n",
    "20. **RRAB**: Fundamental-mode RR Lyrae stars.\n",
    "16. **MIRA**: Long period variable stars of the o (omicron) Ceti type (Mira).\n",
    "28. **SR**: Long period variable stars of the semiregular type.\n",
    "21. **RRC**: First-overtone RR Lyrae stars.\n",
    "10. **DSCT**: δ Scuti-type stars.\n",
    "27. **SXPHE**: SX Phoenicis-type stars.\n",
    "7. **CEP**: Classical (δ) Cepheids.\n",
    "29. **T2CEP**: Type-II Cepheids.\n",
    "22. **RRD**: Double-mode RR Lyrae stars.\n",
    "1. **ACEP**: Anomalous Cepheids.\n",
    "4. **ARRD**: Anomalous double-mode RR Lyrae stars.\n",
    "\n",
    "\n",
    "The stars I'm interested in are not automatically classified, but are used in *training* the classifier that labels these stars.  That's too bad, I'd like to see the lightcurves for these classes:\n",
    "\n",
    "2. ACV: α2 Canum Venaticorum-type stars.\n",
    "8. CONSTANT: Objects whose variations (or absence thereof) are consistent with those of constant sources (Section 7.2.3).\n",
    "11. ECL: Eclipsing binary stars.\n",
    "13. FLARES: Magnetically active stars displaying flares.\n",
    "19. ROT: Rotation modulation in solar-like stars due to magnetic activity (spots).\n",
    "23. RS: RS Canum Venaticorum-type stars.\n",
    "24. SOLARLIKE: Stars with solar-like variability induced by magnetic activity (flares, spots, and rotational modulation)."
   ]
  },
  {
   "cell_type": "markdown",
   "metadata": {},
   "source": [
    "Oh well, looks like these desired classifications may ellude us for now.  What's the deal with the classifier name column?  Section 7.3.1 of the Documentation explains:\n",
    "> The results of this classification can be found in the Gaia DR2 archive in the classification table associated with the `nTransits:2+` classifier, although subsequent filtering [...] increased the minimum number of FoV transits to five"
   ]
  },
  {
   "cell_type": "code",
   "execution_count": 13,
   "metadata": {},
   "outputs": [
    {
     "data": {
      "text/plain": [
       "nTransits:2+    363969\n",
       "Name: classifier_name, dtype: int64"
      ]
     },
     "execution_count": 13,
     "metadata": {},
     "output_type": "execute_result"
    }
   ],
   "source": [
    "df_classifier.classifier_name.value_counts()"
   ]
  },
  {
   "cell_type": "markdown",
   "metadata": {},
   "source": [
    "They all have the same entry, so let's drop this column."
   ]
  },
  {
   "cell_type": "code",
   "execution_count": 14,
   "metadata": {},
   "outputs": [],
   "source": [
    "df_classifier.drop(columns='classifier_name', inplace=True)"
   ]
  },
  {
   "cell_type": "markdown",
   "metadata": {},
   "source": [
    "What is the distribution of best class scores?"
   ]
  },
  {
   "cell_type": "code",
   "execution_count": 15,
   "metadata": {},
   "outputs": [
    {
     "data": {
      "text/plain": [
       "Text(0,0.5,'$N$')"
      ]
     },
     "execution_count": 15,
     "metadata": {},
     "output_type": "execute_result"
    },
    {
     "data": {
      "image/png": "[encoded data removed]",
      "text/plain": [
       "<matplotlib.figure.Figure at 0x11067e748>"
      ]
     },
     "metadata": {
      "image/png": {
       "height": 263,
       "width": 416
      }
     },
     "output_type": "display_data"
    }
   ],
   "source": [
    "df_classifier.best_class_score.hist(bins=20)\n",
    "plt.xlim(1, 0)\n",
    "plt.xlabel('Best Class Score')\n",
    "plt.ylabel('$N$')"
   ]
  },
  {
   "cell_type": "markdown",
   "metadata": {},
   "source": [
    "Many sources have best class scores close to 1.  How do the classifications break down by Class?"
   ]
  },
  {
   "cell_type": "code",
   "execution_count": 16,
   "metadata": {},
   "outputs": [],
   "source": [
    "df_summary = df_classifier.groupby('best_class_name').best_class_score.describe()"
   ]
  },
  {
   "cell_type": "code",
   "execution_count": 17,
   "metadata": {},
   "outputs": [
    {
     "data": {
      "text/html": [
       "<style  type=\"text/css\" >\n",
       "</style>  \n",
       "<table id=\"T_701df14a_4e71_11e8_a5f6_dca9046e9f71\" > \n",
       "<thead>    <tr> \n",
       "        <th class=\"blank level0\" ></th> \n",
       "        <th class=\"col_heading level0 col0\" >count</th> \n",
       "        <th class=\"col_heading level0 col1\" >mean</th> \n",
       "        <th class=\"col_heading level0 col2\" >std</th> \n",
       "        <th class=\"col_heading level0 col3\" >min</th> \n",
       "        <th class=\"col_heading level0 col4\" >25%</th> \n",
       "        <th class=\"col_heading level0 col5\" >50%</th> \n",
       "        <th class=\"col_heading level0 col6\" >75%</th> \n",
       "        <th class=\"col_heading level0 col7\" >max</th> \n",
       "    </tr>    <tr> \n",
       "        <th class=\"index_name level0\" >best_class_name</th> \n",
       "        <th class=\"blank\" ></th> \n",
       "        <th class=\"blank\" ></th> \n",
       "        <th class=\"blank\" ></th> \n",
       "        <th class=\"blank\" ></th> \n",
       "        <th class=\"blank\" ></th> \n",
       "        <th class=\"blank\" ></th> \n",
       "        <th class=\"blank\" ></th> \n",
       "        <th class=\"blank\" ></th> \n",
       "    </tr></thead> \n",
       "<tbody>    <tr> \n",
       "        <th id=\"T_701df14a_4e71_11e8_a5f6_dca9046e9f71level0_row0\" class=\"row_heading level0 row0\" >ACEP</th> \n",
       "        <td id=\"T_701df14a_4e71_11e8_a5f6_dca9046e9f71row0_col0\" class=\"data row0 col0\" >314</td> \n",
       "        <td id=\"T_701df14a_4e71_11e8_a5f6_dca9046e9f71row0_col1\" class=\"data row0 col1\" >42%</td> \n",
       "        <td id=\"T_701df14a_4e71_11e8_a5f6_dca9046e9f71row0_col2\" class=\"data row0 col2\" >16%</td> \n",
       "        <td id=\"T_701df14a_4e71_11e8_a5f6_dca9046e9f71row0_col3\" class=\"data row0 col3\" >17%</td> \n",
       "        <td id=\"T_701df14a_4e71_11e8_a5f6_dca9046e9f71row0_col4\" class=\"data row0 col4\" >28%</td> \n",
       "        <td id=\"T_701df14a_4e71_11e8_a5f6_dca9046e9f71row0_col5\" class=\"data row0 col5\" >38%</td> \n",
       "        <td id=\"T_701df14a_4e71_11e8_a5f6_dca9046e9f71row0_col6\" class=\"data row0 col6\" >56%</td> \n",
       "        <td id=\"T_701df14a_4e71_11e8_a5f6_dca9046e9f71row0_col7\" class=\"data row0 col7\" >83%</td> \n",
       "    </tr>    <tr> \n",
       "        <th id=\"T_701df14a_4e71_11e8_a5f6_dca9046e9f71level0_row1\" class=\"row_heading level0 row1\" >ARRD</th> \n",
       "        <td id=\"T_701df14a_4e71_11e8_a5f6_dca9046e9f71row1_col0\" class=\"data row1 col0\" >107</td> \n",
       "        <td id=\"T_701df14a_4e71_11e8_a5f6_dca9046e9f71row1_col1\" class=\"data row1 col1\" >28%</td> \n",
       "        <td id=\"T_701df14a_4e71_11e8_a5f6_dca9046e9f71row1_col2\" class=\"data row1 col2\" >17%</td> \n",
       "        <td id=\"T_701df14a_4e71_11e8_a5f6_dca9046e9f71row1_col3\" class=\"data row1 col3\" >7%</td> \n",
       "        <td id=\"T_701df14a_4e71_11e8_a5f6_dca9046e9f71row1_col4\" class=\"data row1 col4\" >15%</td> \n",
       "        <td id=\"T_701df14a_4e71_11e8_a5f6_dca9046e9f71row1_col5\" class=\"data row1 col5\" >25%</td> \n",
       "        <td id=\"T_701df14a_4e71_11e8_a5f6_dca9046e9f71row1_col6\" class=\"data row1 col6\" >36%</td> \n",
       "        <td id=\"T_701df14a_4e71_11e8_a5f6_dca9046e9f71row1_col7\" class=\"data row1 col7\" >72%</td> \n",
       "    </tr>    <tr> \n",
       "        <th id=\"T_701df14a_4e71_11e8_a5f6_dca9046e9f71level0_row2\" class=\"row_heading level0 row2\" >CEP</th> \n",
       "        <td id=\"T_701df14a_4e71_11e8_a5f6_dca9046e9f71row2_col0\" class=\"data row2 col0\" >6493</td> \n",
       "        <td id=\"T_701df14a_4e71_11e8_a5f6_dca9046e9f71row2_col1\" class=\"data row2 col1\" >56%</td> \n",
       "        <td id=\"T_701df14a_4e71_11e8_a5f6_dca9046e9f71row2_col2\" class=\"data row2 col2\" >27%</td> \n",
       "        <td id=\"T_701df14a_4e71_11e8_a5f6_dca9046e9f71row2_col3\" class=\"data row2 col3\" >0%</td> \n",
       "        <td id=\"T_701df14a_4e71_11e8_a5f6_dca9046e9f71row2_col4\" class=\"data row2 col4\" >35%</td> \n",
       "        <td id=\"T_701df14a_4e71_11e8_a5f6_dca9046e9f71row2_col5\" class=\"data row2 col5\" >59%</td> \n",
       "        <td id=\"T_701df14a_4e71_11e8_a5f6_dca9046e9f71row2_col6\" class=\"data row2 col6\" >79%</td> \n",
       "        <td id=\"T_701df14a_4e71_11e8_a5f6_dca9046e9f71row2_col7\" class=\"data row2 col7\" >100%</td> \n",
       "    </tr>    <tr> \n",
       "        <th id=\"T_701df14a_4e71_11e8_a5f6_dca9046e9f71level0_row3\" class=\"row_heading level0 row3\" >DSCT_SXPHE</th> \n",
       "        <td id=\"T_701df14a_4e71_11e8_a5f6_dca9046e9f71row3_col0\" class=\"data row3 col0\" >8882</td> \n",
       "        <td id=\"T_701df14a_4e71_11e8_a5f6_dca9046e9f71row3_col1\" class=\"data row3 col1\" >32%</td> \n",
       "        <td id=\"T_701df14a_4e71_11e8_a5f6_dca9046e9f71row3_col2\" class=\"data row3 col2\" >18%</td> \n",
       "        <td id=\"T_701df14a_4e71_11e8_a5f6_dca9046e9f71row3_col3\" class=\"data row3 col3\" >0%</td> \n",
       "        <td id=\"T_701df14a_4e71_11e8_a5f6_dca9046e9f71row3_col4\" class=\"data row3 col4\" >17%</td> \n",
       "        <td id=\"T_701df14a_4e71_11e8_a5f6_dca9046e9f71row3_col5\" class=\"data row3 col5\" >28%</td> \n",
       "        <td id=\"T_701df14a_4e71_11e8_a5f6_dca9046e9f71row3_col6\" class=\"data row3 col6\" >43%</td> \n",
       "        <td id=\"T_701df14a_4e71_11e8_a5f6_dca9046e9f71row3_col7\" class=\"data row3 col7\" >95%</td> \n",
       "    </tr>    <tr> \n",
       "        <th id=\"T_701df14a_4e71_11e8_a5f6_dca9046e9f71level0_row4\" class=\"row_heading level0 row4\" >MIRA_SR</th> \n",
       "        <td id=\"T_701df14a_4e71_11e8_a5f6_dca9046e9f71row4_col0\" class=\"data row4 col0\" >150757</td> \n",
       "        <td id=\"T_701df14a_4e71_11e8_a5f6_dca9046e9f71row4_col1\" class=\"data row4 col1\" >87%</td> \n",
       "        <td id=\"T_701df14a_4e71_11e8_a5f6_dca9046e9f71row4_col2\" class=\"data row4 col2\" >19%</td> \n",
       "        <td id=\"T_701df14a_4e71_11e8_a5f6_dca9046e9f71row4_col3\" class=\"data row4 col3\" >0%</td> \n",
       "        <td id=\"T_701df14a_4e71_11e8_a5f6_dca9046e9f71row4_col4\" class=\"data row4 col4\" >84%</td> \n",
       "        <td id=\"T_701df14a_4e71_11e8_a5f6_dca9046e9f71row4_col5\" class=\"data row4 col5\" >95%</td> \n",
       "        <td id=\"T_701df14a_4e71_11e8_a5f6_dca9046e9f71row4_col6\" class=\"data row4 col6\" >100%</td> \n",
       "        <td id=\"T_701df14a_4e71_11e8_a5f6_dca9046e9f71row4_col7\" class=\"data row4 col7\" >100%</td> \n",
       "    </tr>    <tr> \n",
       "        <th id=\"T_701df14a_4e71_11e8_a5f6_dca9046e9f71level0_row5\" class=\"row_heading level0 row5\" >RRAB</th> \n",
       "        <td id=\"T_701df14a_4e71_11e8_a5f6_dca9046e9f71row5_col0\" class=\"data row5 col0\" >162469</td> \n",
       "        <td id=\"T_701df14a_4e71_11e8_a5f6_dca9046e9f71row5_col1\" class=\"data row5 col1\" >66%</td> \n",
       "        <td id=\"T_701df14a_4e71_11e8_a5f6_dca9046e9f71row5_col2\" class=\"data row5 col2\" >27%</td> \n",
       "        <td id=\"T_701df14a_4e71_11e8_a5f6_dca9046e9f71row5_col3\" class=\"data row5 col3\" >0%</td> \n",
       "        <td id=\"T_701df14a_4e71_11e8_a5f6_dca9046e9f71row5_col4\" class=\"data row5 col4\" >46%</td> \n",
       "        <td id=\"T_701df14a_4e71_11e8_a5f6_dca9046e9f71row5_col5\" class=\"data row5 col5\" >71%</td> \n",
       "        <td id=\"T_701df14a_4e71_11e8_a5f6_dca9046e9f71row5_col6\" class=\"data row5 col6\" >90%</td> \n",
       "        <td id=\"T_701df14a_4e71_11e8_a5f6_dca9046e9f71row5_col7\" class=\"data row5 col7\" >100%</td> \n",
       "    </tr>    <tr> \n",
       "        <th id=\"T_701df14a_4e71_11e8_a5f6_dca9046e9f71level0_row6\" class=\"row_heading level0 row6\" >RRC</th> \n",
       "        <td id=\"T_701df14a_4e71_11e8_a5f6_dca9046e9f71row6_col0\" class=\"data row6 col0\" >32370</td> \n",
       "        <td id=\"T_701df14a_4e71_11e8_a5f6_dca9046e9f71row6_col1\" class=\"data row6 col1\" >43%</td> \n",
       "        <td id=\"T_701df14a_4e71_11e8_a5f6_dca9046e9f71row6_col2\" class=\"data row6 col2\" >25%</td> \n",
       "        <td id=\"T_701df14a_4e71_11e8_a5f6_dca9046e9f71row6_col3\" class=\"data row6 col3\" >0%</td> \n",
       "        <td id=\"T_701df14a_4e71_11e8_a5f6_dca9046e9f71row6_col4\" class=\"data row6 col4\" >21%</td> \n",
       "        <td id=\"T_701df14a_4e71_11e8_a5f6_dca9046e9f71row6_col5\" class=\"data row6 col5\" >43%</td> \n",
       "        <td id=\"T_701df14a_4e71_11e8_a5f6_dca9046e9f71row6_col6\" class=\"data row6 col6\" >63%</td> \n",
       "        <td id=\"T_701df14a_4e71_11e8_a5f6_dca9046e9f71row6_col7\" class=\"data row6 col7\" >99%</td> \n",
       "    </tr>    <tr> \n",
       "        <th id=\"T_701df14a_4e71_11e8_a5f6_dca9046e9f71level0_row7\" class=\"row_heading level0 row7\" >RRD</th> \n",
       "        <td id=\"T_701df14a_4e71_11e8_a5f6_dca9046e9f71row7_col0\" class=\"data row7 col0\" >834</td> \n",
       "        <td id=\"T_701df14a_4e71_11e8_a5f6_dca9046e9f71row7_col1\" class=\"data row7 col1\" >42%</td> \n",
       "        <td id=\"T_701df14a_4e71_11e8_a5f6_dca9046e9f71row7_col2\" class=\"data row7 col2\" >14%</td> \n",
       "        <td id=\"T_701df14a_4e71_11e8_a5f6_dca9046e9f71row7_col3\" class=\"data row7 col3\" >9%</td> \n",
       "        <td id=\"T_701df14a_4e71_11e8_a5f6_dca9046e9f71row7_col4\" class=\"data row7 col4\" >32%</td> \n",
       "        <td id=\"T_701df14a_4e71_11e8_a5f6_dca9046e9f71row7_col5\" class=\"data row7 col5\" >39%</td> \n",
       "        <td id=\"T_701df14a_4e71_11e8_a5f6_dca9046e9f71row7_col6\" class=\"data row7 col6\" >49%</td> \n",
       "        <td id=\"T_701df14a_4e71_11e8_a5f6_dca9046e9f71row7_col7\" class=\"data row7 col7\" >86%</td> \n",
       "    </tr>    <tr> \n",
       "        <th id=\"T_701df14a_4e71_11e8_a5f6_dca9046e9f71level0_row8\" class=\"row_heading level0 row8\" >T2CEP</th> \n",
       "        <td id=\"T_701df14a_4e71_11e8_a5f6_dca9046e9f71row8_col0\" class=\"data row8 col0\" >1743</td> \n",
       "        <td id=\"T_701df14a_4e71_11e8_a5f6_dca9046e9f71row8_col1\" class=\"data row8 col1\" >30%</td> \n",
       "        <td id=\"T_701df14a_4e71_11e8_a5f6_dca9046e9f71row8_col2\" class=\"data row8 col2\" >19%</td> \n",
       "        <td id=\"T_701df14a_4e71_11e8_a5f6_dca9046e9f71row8_col3\" class=\"data row8 col3\" >0%</td> \n",
       "        <td id=\"T_701df14a_4e71_11e8_a5f6_dca9046e9f71row8_col4\" class=\"data row8 col4\" >15%</td> \n",
       "        <td id=\"T_701df14a_4e71_11e8_a5f6_dca9046e9f71row8_col5\" class=\"data row8 col5\" >29%</td> \n",
       "        <td id=\"T_701df14a_4e71_11e8_a5f6_dca9046e9f71row8_col6\" class=\"data row8 col6\" >43%</td> \n",
       "        <td id=\"T_701df14a_4e71_11e8_a5f6_dca9046e9f71row8_col7\" class=\"data row8 col7\" >91%</td> \n",
       "    </tr></tbody> \n",
       "</table> "
      ],
      "text/plain": [
       "<pandas.io.formats.style.Styler at 0x107f59780>"
      ]
     },
     "execution_count": 17,
     "metadata": {},
     "output_type": "execute_result"
    }
   ],
   "source": [
    "df_summary.style.format({key: \"{:.0%}\" for key in ['mean', 'std', 'min', '25%', '50%', '75%', 'max']})"
   ]
  },
  {
   "cell_type": "markdown",
   "metadata": {},
   "source": [
    "Comparing the classification score between types might not be trivial, depending on what assumptions are made in the classifier (the prior probabilities vary drastically).  For example, if you made a classifier that guessed `MIRA_SR`, you would be right 41% of the time.  Finding annomalous Cepheids is a needle-in-a-haystack problem."
   ]
  },
  {
   "cell_type": "code",
   "execution_count": 18,
   "metadata": {},
   "outputs": [
    {
     "data": {
      "text/html": [
       "<style  type=\"text/css\" >\n",
       "</style>  \n",
       "<table id=\"T_70332d9e_4e71_11e8_85c5_dca9046e9f71\" > \n",
       "<thead>    <tr> \n",
       "        <th class=\"blank level0\" ></th> \n",
       "        <th class=\"col_heading level0 col0\" >count</th> \n",
       "        <th class=\"col_heading level0 col1\" >mean</th> \n",
       "        <th class=\"col_heading level0 col2\" >std</th> \n",
       "        <th class=\"col_heading level0 col3\" >min</th> \n",
       "        <th class=\"col_heading level0 col4\" >25%</th> \n",
       "        <th class=\"col_heading level0 col5\" >50%</th> \n",
       "        <th class=\"col_heading level0 col6\" >75%</th> \n",
       "        <th class=\"col_heading level0 col7\" >max</th> \n",
       "        <th class=\"col_heading level0 col8\" >parent_fraction</th> \n",
       "    </tr>    <tr> \n",
       "        <th class=\"index_name level0\" >best_class_name</th> \n",
       "        <th class=\"blank\" ></th> \n",
       "        <th class=\"blank\" ></th> \n",
       "        <th class=\"blank\" ></th> \n",
       "        <th class=\"blank\" ></th> \n",
       "        <th class=\"blank\" ></th> \n",
       "        <th class=\"blank\" ></th> \n",
       "        <th class=\"blank\" ></th> \n",
       "        <th class=\"blank\" ></th> \n",
       "        <th class=\"blank\" ></th> \n",
       "    </tr></thead> \n",
       "<tbody>    <tr> \n",
       "        <th id=\"T_70332d9e_4e71_11e8_85c5_dca9046e9f71level0_row0\" class=\"row_heading level0 row0\" >ACEP</th> \n",
       "        <td id=\"T_70332d9e_4e71_11e8_85c5_dca9046e9f71row0_col0\" class=\"data row0 col0\" >314</td> \n",
       "        <td id=\"T_70332d9e_4e71_11e8_85c5_dca9046e9f71row0_col1\" class=\"data row0 col1\" >42%</td> \n",
       "        <td id=\"T_70332d9e_4e71_11e8_85c5_dca9046e9f71row0_col2\" class=\"data row0 col2\" >16%</td> \n",
       "        <td id=\"T_70332d9e_4e71_11e8_85c5_dca9046e9f71row0_col3\" class=\"data row0 col3\" >17%</td> \n",
       "        <td id=\"T_70332d9e_4e71_11e8_85c5_dca9046e9f71row0_col4\" class=\"data row0 col4\" >28%</td> \n",
       "        <td id=\"T_70332d9e_4e71_11e8_85c5_dca9046e9f71row0_col5\" class=\"data row0 col5\" >38%</td> \n",
       "        <td id=\"T_70332d9e_4e71_11e8_85c5_dca9046e9f71row0_col6\" class=\"data row0 col6\" >56%</td> \n",
       "        <td id=\"T_70332d9e_4e71_11e8_85c5_dca9046e9f71row0_col7\" class=\"data row0 col7\" >83%</td> \n",
       "        <td id=\"T_70332d9e_4e71_11e8_85c5_dca9046e9f71row0_col8\" class=\"data row0 col8\" >0.09%</td> \n",
       "    </tr>    <tr> \n",
       "        <th id=\"T_70332d9e_4e71_11e8_85c5_dca9046e9f71level0_row1\" class=\"row_heading level0 row1\" >ARRD</th> \n",
       "        <td id=\"T_70332d9e_4e71_11e8_85c5_dca9046e9f71row1_col0\" class=\"data row1 col0\" >107</td> \n",
       "        <td id=\"T_70332d9e_4e71_11e8_85c5_dca9046e9f71row1_col1\" class=\"data row1 col1\" >28%</td> \n",
       "        <td id=\"T_70332d9e_4e71_11e8_85c5_dca9046e9f71row1_col2\" class=\"data row1 col2\" >17%</td> \n",
       "        <td id=\"T_70332d9e_4e71_11e8_85c5_dca9046e9f71row1_col3\" class=\"data row1 col3\" >7%</td> \n",
       "        <td id=\"T_70332d9e_4e71_11e8_85c5_dca9046e9f71row1_col4\" class=\"data row1 col4\" >15%</td> \n",
       "        <td id=\"T_70332d9e_4e71_11e8_85c5_dca9046e9f71row1_col5\" class=\"data row1 col5\" >25%</td> \n",
       "        <td id=\"T_70332d9e_4e71_11e8_85c5_dca9046e9f71row1_col6\" class=\"data row1 col6\" >36%</td> \n",
       "        <td id=\"T_70332d9e_4e71_11e8_85c5_dca9046e9f71row1_col7\" class=\"data row1 col7\" >72%</td> \n",
       "        <td id=\"T_70332d9e_4e71_11e8_85c5_dca9046e9f71row1_col8\" class=\"data row1 col8\" >0.03%</td> \n",
       "    </tr>    <tr> \n",
       "        <th id=\"T_70332d9e_4e71_11e8_85c5_dca9046e9f71level0_row2\" class=\"row_heading level0 row2\" >CEP</th> \n",
       "        <td id=\"T_70332d9e_4e71_11e8_85c5_dca9046e9f71row2_col0\" class=\"data row2 col0\" >6493</td> \n",
       "        <td id=\"T_70332d9e_4e71_11e8_85c5_dca9046e9f71row2_col1\" class=\"data row2 col1\" >56%</td> \n",
       "        <td id=\"T_70332d9e_4e71_11e8_85c5_dca9046e9f71row2_col2\" class=\"data row2 col2\" >27%</td> \n",
       "        <td id=\"T_70332d9e_4e71_11e8_85c5_dca9046e9f71row2_col3\" class=\"data row2 col3\" >0%</td> \n",
       "        <td id=\"T_70332d9e_4e71_11e8_85c5_dca9046e9f71row2_col4\" class=\"data row2 col4\" >35%</td> \n",
       "        <td id=\"T_70332d9e_4e71_11e8_85c5_dca9046e9f71row2_col5\" class=\"data row2 col5\" >59%</td> \n",
       "        <td id=\"T_70332d9e_4e71_11e8_85c5_dca9046e9f71row2_col6\" class=\"data row2 col6\" >79%</td> \n",
       "        <td id=\"T_70332d9e_4e71_11e8_85c5_dca9046e9f71row2_col7\" class=\"data row2 col7\" >100%</td> \n",
       "        <td id=\"T_70332d9e_4e71_11e8_85c5_dca9046e9f71row2_col8\" class=\"data row2 col8\" >1.78%</td> \n",
       "    </tr>    <tr> \n",
       "        <th id=\"T_70332d9e_4e71_11e8_85c5_dca9046e9f71level0_row3\" class=\"row_heading level0 row3\" >DSCT_SXPHE</th> \n",
       "        <td id=\"T_70332d9e_4e71_11e8_85c5_dca9046e9f71row3_col0\" class=\"data row3 col0\" >8882</td> \n",
       "        <td id=\"T_70332d9e_4e71_11e8_85c5_dca9046e9f71row3_col1\" class=\"data row3 col1\" >32%</td> \n",
       "        <td id=\"T_70332d9e_4e71_11e8_85c5_dca9046e9f71row3_col2\" class=\"data row3 col2\" >18%</td> \n",
       "        <td id=\"T_70332d9e_4e71_11e8_85c5_dca9046e9f71row3_col3\" class=\"data row3 col3\" >0%</td> \n",
       "        <td id=\"T_70332d9e_4e71_11e8_85c5_dca9046e9f71row3_col4\" class=\"data row3 col4\" >17%</td> \n",
       "        <td id=\"T_70332d9e_4e71_11e8_85c5_dca9046e9f71row3_col5\" class=\"data row3 col5\" >28%</td> \n",
       "        <td id=\"T_70332d9e_4e71_11e8_85c5_dca9046e9f71row3_col6\" class=\"data row3 col6\" >43%</td> \n",
       "        <td id=\"T_70332d9e_4e71_11e8_85c5_dca9046e9f71row3_col7\" class=\"data row3 col7\" >95%</td> \n",
       "        <td id=\"T_70332d9e_4e71_11e8_85c5_dca9046e9f71row3_col8\" class=\"data row3 col8\" >2.44%</td> \n",
       "    </tr>    <tr> \n",
       "        <th id=\"T_70332d9e_4e71_11e8_85c5_dca9046e9f71level0_row4\" class=\"row_heading level0 row4\" >MIRA_SR</th> \n",
       "        <td id=\"T_70332d9e_4e71_11e8_85c5_dca9046e9f71row4_col0\" class=\"data row4 col0\" >150757</td> \n",
       "        <td id=\"T_70332d9e_4e71_11e8_85c5_dca9046e9f71row4_col1\" class=\"data row4 col1\" >87%</td> \n",
       "        <td id=\"T_70332d9e_4e71_11e8_85c5_dca9046e9f71row4_col2\" class=\"data row4 col2\" >19%</td> \n",
       "        <td id=\"T_70332d9e_4e71_11e8_85c5_dca9046e9f71row4_col3\" class=\"data row4 col3\" >0%</td> \n",
       "        <td id=\"T_70332d9e_4e71_11e8_85c5_dca9046e9f71row4_col4\" class=\"data row4 col4\" >84%</td> \n",
       "        <td id=\"T_70332d9e_4e71_11e8_85c5_dca9046e9f71row4_col5\" class=\"data row4 col5\" >95%</td> \n",
       "        <td id=\"T_70332d9e_4e71_11e8_85c5_dca9046e9f71row4_col6\" class=\"data row4 col6\" >100%</td> \n",
       "        <td id=\"T_70332d9e_4e71_11e8_85c5_dca9046e9f71row4_col7\" class=\"data row4 col7\" >100%</td> \n",
       "        <td id=\"T_70332d9e_4e71_11e8_85c5_dca9046e9f71row4_col8\" class=\"data row4 col8\" >41.42%</td> \n",
       "    </tr>    <tr> \n",
       "        <th id=\"T_70332d9e_4e71_11e8_85c5_dca9046e9f71level0_row5\" class=\"row_heading level0 row5\" >RRAB</th> \n",
       "        <td id=\"T_70332d9e_4e71_11e8_85c5_dca9046e9f71row5_col0\" class=\"data row5 col0\" >162469</td> \n",
       "        <td id=\"T_70332d9e_4e71_11e8_85c5_dca9046e9f71row5_col1\" class=\"data row5 col1\" >66%</td> \n",
       "        <td id=\"T_70332d9e_4e71_11e8_85c5_dca9046e9f71row5_col2\" class=\"data row5 col2\" >27%</td> \n",
       "        <td id=\"T_70332d9e_4e71_11e8_85c5_dca9046e9f71row5_col3\" class=\"data row5 col3\" >0%</td> \n",
       "        <td id=\"T_70332d9e_4e71_11e8_85c5_dca9046e9f71row5_col4\" class=\"data row5 col4\" >46%</td> \n",
       "        <td id=\"T_70332d9e_4e71_11e8_85c5_dca9046e9f71row5_col5\" class=\"data row5 col5\" >71%</td> \n",
       "        <td id=\"T_70332d9e_4e71_11e8_85c5_dca9046e9f71row5_col6\" class=\"data row5 col6\" >90%</td> \n",
       "        <td id=\"T_70332d9e_4e71_11e8_85c5_dca9046e9f71row5_col7\" class=\"data row5 col7\" >100%</td> \n",
       "        <td id=\"T_70332d9e_4e71_11e8_85c5_dca9046e9f71row5_col8\" class=\"data row5 col8\" >44.64%</td> \n",
       "    </tr>    <tr> \n",
       "        <th id=\"T_70332d9e_4e71_11e8_85c5_dca9046e9f71level0_row6\" class=\"row_heading level0 row6\" >RRC</th> \n",
       "        <td id=\"T_70332d9e_4e71_11e8_85c5_dca9046e9f71row6_col0\" class=\"data row6 col0\" >32370</td> \n",
       "        <td id=\"T_70332d9e_4e71_11e8_85c5_dca9046e9f71row6_col1\" class=\"data row6 col1\" >43%</td> \n",
       "        <td id=\"T_70332d9e_4e71_11e8_85c5_dca9046e9f71row6_col2\" class=\"data row6 col2\" >25%</td> \n",
       "        <td id=\"T_70332d9e_4e71_11e8_85c5_dca9046e9f71row6_col3\" class=\"data row6 col3\" >0%</td> \n",
       "        <td id=\"T_70332d9e_4e71_11e8_85c5_dca9046e9f71row6_col4\" class=\"data row6 col4\" >21%</td> \n",
       "        <td id=\"T_70332d9e_4e71_11e8_85c5_dca9046e9f71row6_col5\" class=\"data row6 col5\" >43%</td> \n",
       "        <td id=\"T_70332d9e_4e71_11e8_85c5_dca9046e9f71row6_col6\" class=\"data row6 col6\" >63%</td> \n",
       "        <td id=\"T_70332d9e_4e71_11e8_85c5_dca9046e9f71row6_col7\" class=\"data row6 col7\" >99%</td> \n",
       "        <td id=\"T_70332d9e_4e71_11e8_85c5_dca9046e9f71row6_col8\" class=\"data row6 col8\" >8.89%</td> \n",
       "    </tr>    <tr> \n",
       "        <th id=\"T_70332d9e_4e71_11e8_85c5_dca9046e9f71level0_row7\" class=\"row_heading level0 row7\" >RRD</th> \n",
       "        <td id=\"T_70332d9e_4e71_11e8_85c5_dca9046e9f71row7_col0\" class=\"data row7 col0\" >834</td> \n",
       "        <td id=\"T_70332d9e_4e71_11e8_85c5_dca9046e9f71row7_col1\" class=\"data row7 col1\" >42%</td> \n",
       "        <td id=\"T_70332d9e_4e71_11e8_85c5_dca9046e9f71row7_col2\" class=\"data row7 col2\" >14%</td> \n",
       "        <td id=\"T_70332d9e_4e71_11e8_85c5_dca9046e9f71row7_col3\" class=\"data row7 col3\" >9%</td> \n",
       "        <td id=\"T_70332d9e_4e71_11e8_85c5_dca9046e9f71row7_col4\" class=\"data row7 col4\" >32%</td> \n",
       "        <td id=\"T_70332d9e_4e71_11e8_85c5_dca9046e9f71row7_col5\" class=\"data row7 col5\" >39%</td> \n",
       "        <td id=\"T_70332d9e_4e71_11e8_85c5_dca9046e9f71row7_col6\" class=\"data row7 col6\" >49%</td> \n",
       "        <td id=\"T_70332d9e_4e71_11e8_85c5_dca9046e9f71row7_col7\" class=\"data row7 col7\" >86%</td> \n",
       "        <td id=\"T_70332d9e_4e71_11e8_85c5_dca9046e9f71row7_col8\" class=\"data row7 col8\" >0.23%</td> \n",
       "    </tr>    <tr> \n",
       "        <th id=\"T_70332d9e_4e71_11e8_85c5_dca9046e9f71level0_row8\" class=\"row_heading level0 row8\" >T2CEP</th> \n",
       "        <td id=\"T_70332d9e_4e71_11e8_85c5_dca9046e9f71row8_col0\" class=\"data row8 col0\" >1743</td> \n",
       "        <td id=\"T_70332d9e_4e71_11e8_85c5_dca9046e9f71row8_col1\" class=\"data row8 col1\" >30%</td> \n",
       "        <td id=\"T_70332d9e_4e71_11e8_85c5_dca9046e9f71row8_col2\" class=\"data row8 col2\" >19%</td> \n",
       "        <td id=\"T_70332d9e_4e71_11e8_85c5_dca9046e9f71row8_col3\" class=\"data row8 col3\" >0%</td> \n",
       "        <td id=\"T_70332d9e_4e71_11e8_85c5_dca9046e9f71row8_col4\" class=\"data row8 col4\" >15%</td> \n",
       "        <td id=\"T_70332d9e_4e71_11e8_85c5_dca9046e9f71row8_col5\" class=\"data row8 col5\" >29%</td> \n",
       "        <td id=\"T_70332d9e_4e71_11e8_85c5_dca9046e9f71row8_col6\" class=\"data row8 col6\" >43%</td> \n",
       "        <td id=\"T_70332d9e_4e71_11e8_85c5_dca9046e9f71row8_col7\" class=\"data row8 col7\" >91%</td> \n",
       "        <td id=\"T_70332d9e_4e71_11e8_85c5_dca9046e9f71row8_col8\" class=\"data row8 col8\" >0.48%</td> \n",
       "    </tr></tbody> \n",
       "</table> "
      ],
      "text/plain": [
       "<pandas.io.formats.style.Styler at 0x107fae550>"
      ]
     },
     "execution_count": 18,
     "metadata": {},
     "output_type": "execute_result"
    }
   ],
   "source": [
    "df_summary['parent_fraction'] = df_summary['count']/df_summary['count'].sum()\n",
    "df_summary.style.format({key: \"{:.0%}\" for key in ['mean', 'std', 'min', '25%', '50%', '75%', 'max']}\n",
    "                       ).format({'parent_fraction': \"{:.2%}\"})"
   ]
  },
  {
   "cell_type": "markdown",
   "metadata": {},
   "source": [
    "The next thing we could do is match the Gaia `Source ID` with the main catalog to get RA and DEC values to then cross-match with Kepler/K2."
   ]
  }
 ],
 "metadata": {
  "kernelspec": {
   "display_name": "Python 3",
   "language": "python",
   "name": "python3"
  },
  "language_info": {
   "codemirror_mode": {
    "name": "ipython",
    "version": 3
   },
   "file_extension": ".py",
   "mimetype": "text/x-python",
   "name": "python",
   "nbconvert_exporter": "python",
   "pygments_lexer": "ipython3",
   "version": "3.6.3"
  }
 },
 "nbformat": 4,
 "nbformat_minor": 2
}
