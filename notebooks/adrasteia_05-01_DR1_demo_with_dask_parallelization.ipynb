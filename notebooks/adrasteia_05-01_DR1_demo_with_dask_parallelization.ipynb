{
 "cells": [
  {
   "cell_type": "markdown",
   "metadata": {},
   "source": [
    "# Adrasteia\n",
    "\n",
    "Attempt at using dask to read Gaia data."
   ]
  },
  {
   "cell_type": "code",
   "execution_count": 2,
   "metadata": {
    "collapsed": true
   },
   "outputs": [],
   "source": [
    "import dask"
   ]
  },
  {
   "cell_type": "code",
   "execution_count": 1,
   "metadata": {
    "collapsed": true
   },
   "outputs": [],
   "source": [
    "from distributed import Client"
   ]
  },
  {
   "cell_type": "code",
   "execution_count": 3,
   "metadata": {
    "collapsed": true
   },
   "outputs": [],
   "source": [
    "client = Client()"
   ]
  },
  {
   "cell_type": "code",
   "execution_count": 7,
   "metadata": {
    "collapsed": true
   },
   "outputs": [],
   "source": [
    "client.close()"
   ]
  },
  {
   "cell_type": "code",
   "execution_count": 1,
   "metadata": {},
   "outputs": [],
   "source": [
    "#client.scheduler_info()"
   ]
  },
  {
   "cell_type": "code",
   "execution_count": 4,
   "metadata": {
    "collapsed": true
   },
   "outputs": [],
   "source": [
    "import dask.dataframe as dd"
   ]
  },
  {
   "cell_type": "code",
   "execution_count": 3,
   "metadata": {},
   "outputs": [
    {
     "name": "stdout",
     "output_type": "stream",
     "text": [
      "CPU times: user 163 ms, sys: 26.8 ms, total: 189 ms\n",
      "Wall time: 229 ms\n"
     ]
    }
   ],
   "source": [
    "%%time\n",
    "df = dd.read_csv('../data/TgasSource_000-000-*.csv')"
   ]
  },
  {
   "cell_type": "code",
   "execution_count": 4,
   "metadata": {},
   "outputs": [
    {
     "data": {
      "text/html": [
       "<div>\n",
       "<style>\n",
       "    .dataframe thead tr:only-child th {\n",
       "        text-align: right;\n",
       "    }\n",
       "\n",
       "    .dataframe thead th {\n",
       "        text-align: left;\n",
       "    }\n",
       "\n",
       "    .dataframe tbody tr th {\n",
       "        vertical-align: top;\n",
       "    }\n",
       "</style>\n",
       "<table border=\"1\" class=\"dataframe\">\n",
       "  <thead>\n",
       "    <tr style=\"text-align: right;\">\n",
       "      <th></th>\n",
       "      <th>hip</th>\n",
       "      <th>tycho2_id</th>\n",
       "      <th>solution_id</th>\n",
       "      <th>source_id</th>\n",
       "      <th>random_index</th>\n",
       "      <th>ref_epoch</th>\n",
       "      <th>ra</th>\n",
       "      <th>ra_error</th>\n",
       "      <th>dec</th>\n",
       "      <th>dec_error</th>\n",
       "      <th>...</th>\n",
       "      <th>scan_direction_mean_k4</th>\n",
       "      <th>phot_g_n_obs</th>\n",
       "      <th>phot_g_mean_flux</th>\n",
       "      <th>phot_g_mean_flux_error</th>\n",
       "      <th>phot_g_mean_mag</th>\n",
       "      <th>phot_variable_flag</th>\n",
       "      <th>l</th>\n",
       "      <th>b</th>\n",
       "      <th>ecl_lon</th>\n",
       "      <th>ecl_lat</th>\n",
       "    </tr>\n",
       "  </thead>\n",
       "  <tbody>\n",
       "    <tr>\n",
       "      <th>0</th>\n",
       "      <td>13989.0</td>\n",
       "      <td>NaN</td>\n",
       "      <td>1635378410781933568</td>\n",
       "      <td>7627862074752</td>\n",
       "      <td>243619</td>\n",
       "      <td>2015.0</td>\n",
       "      <td>45.034330</td>\n",
       "      <td>0.305989</td>\n",
       "      <td>0.235392</td>\n",
       "      <td>0.218802</td>\n",
       "      <td>...</td>\n",
       "      <td>26.201841</td>\n",
       "      <td>77</td>\n",
       "      <td>1.031233e+07</td>\n",
       "      <td>10577.365273</td>\n",
       "      <td>7.991378</td>\n",
       "      <td>NOT_AVAILABLE</td>\n",
       "      <td>176.740413</td>\n",
       "      <td>-48.714422</td>\n",
       "      <td>42.641825</td>\n",
       "      <td>-16.121052</td>\n",
       "    </tr>\n",
       "    <tr>\n",
       "      <th>1</th>\n",
       "      <td>NaN</td>\n",
       "      <td>55-28-1</td>\n",
       "      <td>1635378410781933568</td>\n",
       "      <td>9277129363072</td>\n",
       "      <td>487238</td>\n",
       "      <td>2015.0</td>\n",
       "      <td>45.165007</td>\n",
       "      <td>2.583882</td>\n",
       "      <td>0.200068</td>\n",
       "      <td>1.197789</td>\n",
       "      <td>...</td>\n",
       "      <td>22.890602</td>\n",
       "      <td>62</td>\n",
       "      <td>9.495646e+05</td>\n",
       "      <td>1140.173576</td>\n",
       "      <td>10.580959</td>\n",
       "      <td>NOT_AVAILABLE</td>\n",
       "      <td>176.916420</td>\n",
       "      <td>-48.645004</td>\n",
       "      <td>42.761180</td>\n",
       "      <td>-16.193033</td>\n",
       "    </tr>\n",
       "    <tr>\n",
       "      <th>2</th>\n",
       "      <td>NaN</td>\n",
       "      <td>55-1191-1</td>\n",
       "      <td>1635378410781933568</td>\n",
       "      <td>13297218905216</td>\n",
       "      <td>1948952</td>\n",
       "      <td>2015.0</td>\n",
       "      <td>45.086155</td>\n",
       "      <td>0.213836</td>\n",
       "      <td>0.248825</td>\n",
       "      <td>0.180326</td>\n",
       "      <td>...</td>\n",
       "      <td>26.715704</td>\n",
       "      <td>60</td>\n",
       "      <td>8.178376e+05</td>\n",
       "      <td>1827.383676</td>\n",
       "      <td>10.743102</td>\n",
       "      <td>NOT_AVAILABLE</td>\n",
       "      <td>176.780400</td>\n",
       "      <td>-48.667845</td>\n",
       "      <td>42.697502</td>\n",
       "      <td>-16.123363</td>\n",
       "    </tr>\n",
       "    <tr>\n",
       "      <th>3</th>\n",
       "      <td>NaN</td>\n",
       "      <td>55-624-1</td>\n",
       "      <td>1635378410781933568</td>\n",
       "      <td>13469017597184</td>\n",
       "      <td>102321</td>\n",
       "      <td>2015.0</td>\n",
       "      <td>45.066542</td>\n",
       "      <td>0.276039</td>\n",
       "      <td>0.248211</td>\n",
       "      <td>0.200958</td>\n",
       "      <td>...</td>\n",
       "      <td>25.878560</td>\n",
       "      <td>61</td>\n",
       "      <td>6.020535e+05</td>\n",
       "      <td>905.877286</td>\n",
       "      <td>11.075682</td>\n",
       "      <td>NOT_AVAILABLE</td>\n",
       "      <td>176.760412</td>\n",
       "      <td>-48.682365</td>\n",
       "      <td>42.677791</td>\n",
       "      <td>-16.118216</td>\n",
       "    </tr>\n",
       "    <tr>\n",
       "      <th>4</th>\n",
       "      <td>NaN</td>\n",
       "      <td>55-849-1</td>\n",
       "      <td>1635378410781933568</td>\n",
       "      <td>15736760328576</td>\n",
       "      <td>409284</td>\n",
       "      <td>2015.0</td>\n",
       "      <td>45.136038</td>\n",
       "      <td>0.170697</td>\n",
       "      <td>0.335044</td>\n",
       "      <td>0.170130</td>\n",
       "      <td>...</td>\n",
       "      <td>26.755468</td>\n",
       "      <td>96</td>\n",
       "      <td>1.388122e+06</td>\n",
       "      <td>2826.428866</td>\n",
       "      <td>10.168701</td>\n",
       "      <td>NOT_AVAILABLE</td>\n",
       "      <td>176.739184</td>\n",
       "      <td>-48.572035</td>\n",
       "      <td>42.773370</td>\n",
       "      <td>-16.055481</td>\n",
       "    </tr>\n",
       "  </tbody>\n",
       "</table>\n",
       "<p>5 rows × 59 columns</p>\n",
       "</div>"
      ],
      "text/plain": [
       "       hip  tycho2_id          solution_id       source_id  random_index  \\\n",
       "0  13989.0        NaN  1635378410781933568   7627862074752        243619   \n",
       "1      NaN    55-28-1  1635378410781933568   9277129363072        487238   \n",
       "2      NaN  55-1191-1  1635378410781933568  13297218905216       1948952   \n",
       "3      NaN   55-624-1  1635378410781933568  13469017597184        102321   \n",
       "4      NaN   55-849-1  1635378410781933568  15736760328576        409284   \n",
       "\n",
       "   ref_epoch         ra  ra_error       dec  dec_error    ...      \\\n",
       "0     2015.0  45.034330  0.305989  0.235392   0.218802    ...       \n",
       "1     2015.0  45.165007  2.583882  0.200068   1.197789    ...       \n",
       "2     2015.0  45.086155  0.213836  0.248825   0.180326    ...       \n",
       "3     2015.0  45.066542  0.276039  0.248211   0.200958    ...       \n",
       "4     2015.0  45.136038  0.170697  0.335044   0.170130    ...       \n",
       "\n",
       "   scan_direction_mean_k4  phot_g_n_obs  phot_g_mean_flux  \\\n",
       "0               26.201841            77      1.031233e+07   \n",
       "1               22.890602            62      9.495646e+05   \n",
       "2               26.715704            60      8.178376e+05   \n",
       "3               25.878560            61      6.020535e+05   \n",
       "4               26.755468            96      1.388122e+06   \n",
       "\n",
       "   phot_g_mean_flux_error  phot_g_mean_mag  phot_variable_flag           l  \\\n",
       "0            10577.365273         7.991378       NOT_AVAILABLE  176.740413   \n",
       "1             1140.173576        10.580959       NOT_AVAILABLE  176.916420   \n",
       "2             1827.383676        10.743102       NOT_AVAILABLE  176.780400   \n",
       "3              905.877286        11.075682       NOT_AVAILABLE  176.760412   \n",
       "4             2826.428866        10.168701       NOT_AVAILABLE  176.739184   \n",
       "\n",
       "           b    ecl_lon    ecl_lat  \n",
       "0 -48.714422  42.641825 -16.121052  \n",
       "1 -48.645004  42.761180 -16.193033  \n",
       "2 -48.667845  42.697502 -16.123363  \n",
       "3 -48.682365  42.677791 -16.118216  \n",
       "4 -48.572035  42.773370 -16.055481  \n",
       "\n",
       "[5 rows x 59 columns]"
      ]
     },
     "execution_count": 4,
     "metadata": {},
     "output_type": "execute_result"
    }
   ],
   "source": [
    "df.head()"
   ]
  },
  {
   "cell_type": "code",
   "execution_count": 7,
   "metadata": {},
   "outputs": [
    {
     "data": {
      "text/plain": [
       "10.814073743893747"
      ]
     },
     "execution_count": 7,
     "metadata": {},
     "output_type": "execute_result"
    }
   ],
   "source": [
    "df.phot_g_mean_mag.mean().compute()"
   ]
  }
 ],
 "metadata": {
  "kernelspec": {
   "display_name": "Python 3",
   "language": "python",
   "name": "python3"
  },
  "language_info": {
   "codemirror_mode": {
    "name": "ipython",
    "version": 3
   },
   "file_extension": ".py",
   "mimetype": "text/x-python",
   "name": "python",
   "nbconvert_exporter": "python",
   "pygments_lexer": "ipython3",
   "version": "3.6.3"
  }
 },
 "nbformat": 4,
 "nbformat_minor": 2
}
